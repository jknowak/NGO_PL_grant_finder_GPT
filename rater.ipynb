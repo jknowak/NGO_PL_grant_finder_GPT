{
 "cells": [
  {
   "cell_type": "code",
   "execution_count": 3,
   "metadata": {},
   "outputs": [
    {
     "name": "stdout",
     "output_type": "stream",
     "text": [
      "LlamaIndex version: 0.10.55\n",
      "OpenAI version is compatible.\n"
     ]
    }
   ],
   "source": [
    "import openai\n",
    "import json\n",
    "import os\n",
    "import pandas as pd\n",
    "from packaging import version\n",
    "from keys import API_KEY\n",
    "from datetime import datetime\n",
    "from llama_index.core import __version__\n",
    "\n",
    "print(f\"LlamaIndex version: {__version__}\")\n",
    "\n",
    "\n",
    "required_version = version.parse(\"1.1.1\")\n",
    "current_version = version.parse(openai.__version__)\n",
    "\n",
    "if current_version < required_version:\n",
    "    raise ValueError(f\"Error: OpenAI version {openai.__version__}\"\n",
    "                     \" is less than the required version 1.1.1\")\n",
    "else:\n",
    "    print(\"OpenAI version is compatible.\")\n",
    "\n",
    "# -- Now we can get to it\n",
    "from openai import OpenAI\n",
    "client = OpenAI(api_key=API_KEY) "
   ]
  },
  {
   "cell_type": "code",
   "execution_count": null,
   "metadata": {},
   "outputs": [],
   "source": [
    "ngo_desc = \"\"\"\n",
    "Warsaw-based NGO hiring 3 people in Poland conducting countrywide projects in areas of:\n",
    "A) Meta EA and career advice - spreading effective altruism ideas and helping people have an impactful job,\n",
    "B) AI Safety - communicating AI Safety ideas and trying to get more people to work on it,\n",
    "C) effective fundraising - fundraising (via a platform they're developing) for other NGOs that work in effective altruism,\n",
    "Projects they don't want to work on right now: animal rights, animal welfare, conservation, ecology, direct work in other areas.\n",
    "The NGO is ready to start new projects and is looking for grants that could finance them.\n",
    "\"\"\""
   ]
  },
  {
   "cell_type": "code",
   "execution_count": null,
   "metadata": {},
   "outputs": [],
   "source": [
    "# List all files in the given directory and iterate over the filtered files to find the most recent one\n",
    "files = os.listdir('.')\n",
    "grants_files = [f for f in files if f.startswith('grants_') and f.endswith('.csv')]\n",
    "most_recent_file = None\n",
    "latest_timestamp = datetime.min\n",
    "\n",
    "for file in grants_files:\n",
    "    parts = file.split('_')\n",
    "    if len(parts) >= 3:  # Ensure the filename has enough parts to extract a timestamp\n",
    "        timestamp_str = parts[1]\n",
    "        try:\n",
    "            # Parse the timestamp\n",
    "            timestamp = datetime.strptime(timestamp_str, '%y%m%d%H%M')\n",
    "            if timestamp > latest_timestamp:\n",
    "                most_recent_file, latest_timestamp = file, timestamp\n",
    "        except ValueError:\n",
    "            continue\n",
    "\n",
    "print(most_recent_file + \"is the most recent grants CSV file\")\n",
    "\n",
    "# Load the CSV file into DataFrame\n",
    "df = pd.read_csv(most_recent_file)\n",
    "df.head(5)\n"
   ]
  },
  {
   "cell_type": "code",
   "execution_count": null,
   "metadata": {},
   "outputs": [],
   "source": [
    "obszary = [\"Warszawa\", \"Cała Polska\", \"mazowieckie\", \"Kraków\", \"Poznań\", \"wielkopolskie\", \"Wrocław\"]\n",
    "fdf = df[(df[\"obszar\"].isin(obszary))]\n",
    "fdf"
   ]
  },
  {
   "cell_type": "code",
   "execution_count": null,
   "metadata": {},
   "outputs": [],
   "source": [
    "def get_prompt(ngo, grant):\n",
    "  return f\"Grant description: {grant}\\nNGO description: {ngo}\\n\" +  \"\"\"\n",
    "    Provide\n",
    "    - rating of grant's suitability for the NGO's area A described above (conservative, critical assessment) (1-100),\n",
    "    - rating of grant's suitability for the NGO's area B described above (conservative, critical assessment) (1-100),\n",
    "    - rating of grant's suitability for the NGO's area C described above (conservative, critical assessment) (1-100),\n",
    "    - rating of how low effort it would be to use this grant (1-100), \n",
    "    - rating of how likely it is to cover general operation costs or meta charity projects (1-100),\n",
    "    {A_rating: _ , B_rating: _ , C_rating: _ , effortless_rating: _ , meta_ops_rating: _ }\\nPlease reply with proper JSON format like above\n",
    "    \"\"\""
   ]
  },
  {
   "cell_type": "code",
   "execution_count": null,
   "metadata": {},
   "outputs": [],
   "source": [
    "def rate_match(grant_row):\n",
    "  grant_short_descr = grant_row.name\n",
    "  if not grant_row.descr: \n",
    "    grant_short_descr=grant_row.descr\n",
    "  \n",
    "  grant_descr = f\"{grant_short_descr}\\ntagi: {grant_row.tags}\\nautor: {grant_row.author}\\nobszar: {grant_row.obszar}\\nzakres: {grant_row.fundusz}\"\n",
    "  for i in df.iterrows():# Example usage: Create a text completion with GPT-3\n",
    "    response = client.chat.completions.create(\n",
    "      model=\"gpt-3.5-turbo-0125\",\n",
    "      response_format={ \"type\": \"json_object\" },\n",
    "      messages=[\n",
    "          {\"role\":\"user\", \"content\":get_prompt(ngo_desc, grant_descr)}\n",
    "      ]\n",
    "    )\n",
    "\n",
    "    json_output = response.choices[0].message.content\n",
    "    parsed_dict = json.loads(json_output)\n",
    "    print(grant_row.name, parsed_dict)\n",
    "    return pd.Series(parsed_dict)\n",
    "  \n",
    "new_columns = fdf.apply(rate_match, axis=1)\n",
    "fdf = fdf.join(new_columns)\n"
   ]
  },
  {
   "cell_type": "code",
   "execution_count": null,
   "metadata": {},
   "outputs": [],
   "source": [
    "fdf[\"total_rating\"] = fdf.A_rating + fdf.B_rating + fdf.C_rating + fdf.effortless_rating*0.5 + fdf.meta_ops_rating*0.5"
   ]
  },
  {
   "cell_type": "code",
   "execution_count": null,
   "metadata": {},
   "outputs": [],
   "source": [
    "cols = [\"name\",\"obszar\", \"total_rating\"]\n",
    "fdf.sort_values(by=\"total_rating\", ascending=False).head(10)"
   ]
  },
  {
   "cell_type": "code",
   "execution_count": null,
   "metadata": {},
   "outputs": [],
   "source": [
    "fdf.to_csv(\"ranked_filtered_\"+most_recent_file)"
   ]
  },
  {
   "cell_type": "code",
   "execution_count": null,
   "metadata": {},
   "outputs": [],
   "source": []
  },
  {
   "cell_type": "code",
   "execution_count": null,
   "metadata": {},
   "outputs": [],
   "source": []
  }
 ],
 "metadata": {
  "kernelspec": {
   "display_name": "base",
   "language": "python",
   "name": "python3"
  },
  "language_info": {
   "codemirror_mode": {
    "name": "ipython",
    "version": 3
   },
   "file_extension": ".py",
   "mimetype": "text/x-python",
   "name": "python",
   "nbconvert_exporter": "python",
   "pygments_lexer": "ipython3",
   "version": "3.11.3"
  }
 },
 "nbformat": 4,
 "nbformat_minor": 2
}
